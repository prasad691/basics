{
  "nbformat": 4,
  "nbformat_minor": 0,
  "metadata": {
    "colab": {
      "name": "chessboard.ipynb",
      "provenance": [],
      "authorship_tag": "ABX9TyPmQ63SfL44iXYSTUcmdnfn",
      "include_colab_link": true
    },
    "kernelspec": {
      "name": "python3",
      "display_name": "Python 3"
    }
  },
  "cells": [
    {
      "cell_type": "markdown",
      "metadata": {
        "id": "view-in-github",
        "colab_type": "text"
      },
      "source": [
        "<a href=\"https://colab.research.google.com/github/prasad691/basics/blob/master/chessboard.ipynb\" target=\"_parent\"><img src=\"https://colab.research.google.com/assets/colab-badge.svg\" alt=\"Open In Colab\"/></a>"
      ]
    },
    {
      "cell_type": "code",
      "metadata": {
        "id": "zD3b7yf-NNVy",
        "colab_type": "code",
        "colab": {}
      },
      "source": [
        "import numpy as np\n",
        "import cv2\n",
        "b = np.zeros([400,400],dtype='uint8')\n",
        "n=50\n",
        "j=n\n",
        "while(j<=400) :\n",
        "    i=n\n",
        "    while(i<=400) :\n",
        "        b[j-n:j,i-n:i] = 255\n",
        "        b[j:j+n,i:i+n] = 255\n",
        "        i=i+n*22\n",
        "    j=j+n*2\n",
        "cv2.imshow('checker board 8*8',b)\n",
        "cv2.waitkey(0)\n",
        "cv2.destroyAllWindows()"
      ],
      "execution_count": null,
      "outputs": []
    }
  ]
}